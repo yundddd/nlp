{
 "cells": [
  {
   "cell_type": "code",
   "execution_count": null,
   "metadata": {},
   "outputs": [],
   "source": [
    "import torch\n",
    "import torch.nn as nn\n",
    "import torch.optim as optim\n",
    "from torch.utils.data import Dataset, DataLoader\n",
    "import re\n",
    "\n",
    "# Prepare the data\n",
    "class TextDataset(Dataset):\n",
    "    def __init__(self, text, window_size=2):\n",
    "        # Clean the text\n",
    "        self.text = self._clean_text(text).split()\n",
    "        self.window_size = window_size\n",
    "        self.vocab = list(set(self.text))\n",
    "        self.word2idx = {word: idx for idx, word in enumerate(self.vocab)}\n",
    "        self.idx2word = {idx: word for idx, word in enumerate(self.vocab)}\n",
    "        self.vocab_size = len(self.vocab)\n",
    "        \n",
    "        # Create training pairs, for example with window=3\n",
    "        #   training text: \"I love to eat pizza on mondays\"\n",
    "        #   context:       \"I love to ___ pizza on mondays\"\n",
    "        #   target :                  eat\n",
    "        self.data = []\n",
    "        for i in range(window_size, len(self.text) - window_size):\n",
    "            context = [\n",
    "                self.text[i - j - 1] for j in range(window_size)] + [\n",
    "                self.text[i + j + 1] for j in range(window_size)]\n",
    "            target = self.text[i]\n",
    "            self.data.append((context, target))\n",
    "    \n",
    "    def __len__(self):\n",
    "        return len(self.data)\n",
    "    \n",
    "    # retrive one context-target pair.\n",
    "    # the returned pair are vocabular index.\n",
    "    def __getitem__(self, idx):\n",
    "        context, target = self.data[idx]\n",
    "        context_idx = torch.tensor([self.word2idx[w] for w in context], dtype=torch.long)\n",
    "        target_idx = torch.tensor(self.word2idx[target], dtype=torch.long)\n",
    "        return context_idx, target_idx\n",
    "    \n",
    "    def _clean_text(self, text):\n",
    "        \"\"\"Remove punctuation and special characters, lowercase everything\"\"\"\n",
    "        # Remove all non-alphanumeric characters except apostrophes and spaces\n",
    "        text = re.sub(r\"[^\\w\\s']\", \"\", text)\n",
    "        # Convert to lowercase\n",
    "        text = text.lower()\n",
    "        # Remove extra whitespace\n",
    "        text = re.sub(r\"\\s+\", \" \", text).strip()\n",
    "        return text\n",
    "\n",
    "# Define the continous bag of words model\n",
    "class CBOW(nn.Module):\n",
    "    def __init__(self, vocab_size, embedding_dim):\n",
    "        super(CBOW, self).__init__()\n",
    "        self.embeddings = nn.Embedding(vocab_size, embedding_dim)\n",
    "        self.linear = nn.Linear(embedding_dim, vocab_size)\n",
    "        \n",
    "    def forward(self, inputs):\n",
    "        embeds = self.embeddings(inputs)  # shape: [batch_size, context_size, embedding_dim]\n",
    "        embeds = torch.mean(embeds, dim=1)  # average context embeddings\n",
    "        out = self.linear(embeds)  # shape: [batch_size, vocab_size]\n",
    "        return out"
   ]
  },
  {
   "cell_type": "code",
   "execution_count": 24,
   "metadata": {},
   "outputs": [],
   "source": [
    "def train(text, embedding_dim=100, window_size=2, batch_size=32, epochs=10, learning_rate=0.01):\n",
    "    # Prepare dataset\n",
    "    dataset = TextDataset(text, window_size)\n",
    "    dataloader = DataLoader(dataset, batch_size=batch_size, shuffle=True)\n",
    "    print(dataset.vocab_size)\n",
    "    # Initialize model\n",
    "    model = CBOW(dataset.vocab_size, embedding_dim)\n",
    "    criterion = nn.CrossEntropyLoss()  # This includes softmax\n",
    "    optimizer = optim.Adam(model.parameters(), lr=learning_rate)\n",
    "    \n",
    "    # Training loop\n",
    "    for epoch in range(epochs):\n",
    "        total_loss = 0\n",
    "        for context, target in dataloader:\n",
    "            # Forward pass\n",
    "            outputs = model(context)\n",
    "            loss = criterion(outputs, target)\n",
    "            \n",
    "            # Backward pass and optimize\n",
    "            optimizer.zero_grad()\n",
    "            loss.backward()\n",
    "            optimizer.step()\n",
    "            \n",
    "            total_loss += loss.item()\n",
    "        \n",
    "        print(f'Epoch {epoch+1}, Loss: {total_loss/len(dataloader):.4f}')\n",
    "    \n",
    "    return model, dataset.word2idx, dataset.idx2word"
   ]
  },
  {
   "cell_type": "code",
   "execution_count": null,
   "metadata": {},
   "outputs": [
    {
     "name": "stdout",
     "output_type": "stream",
     "text": [
      "Requirement already satisfied: nltk in /usr/local/python/3.12.1/lib/python3.12/site-packages (3.9.1)\n",
      "Requirement already satisfied: click in /usr/local/python/3.12.1/lib/python3.12/site-packages (from nltk) (8.1.8)\n",
      "Requirement already satisfied: joblib in /home/codespace/.local/lib/python3.12/site-packages (from nltk) (1.4.2)\n",
      "Requirement already satisfied: regex>=2021.8.3 in /usr/local/python/3.12.1/lib/python3.12/site-packages (from nltk) (2024.11.6)\n",
      "Requirement already satisfied: tqdm in /usr/local/python/3.12.1/lib/python3.12/site-packages (from nltk) (4.67.1)\n",
      "Note: you may need to restart the kernel to use updated packages.\n"
     ]
    },
    {
     "name": "stderr",
     "output_type": "stream",
     "text": [
      "[nltk_data] Downloading package brown to /home/codespace/nltk_data...\n",
      "[nltk_data]   Unzipping corpora/brown.zip.\n"
     ]
    },
    {
     "data": {
      "text/plain": [
       "True"
      ]
     },
     "execution_count": 50,
     "metadata": {},
     "output_type": "execute_result"
    }
   ],
   "source": [
    "%pip install nltk\n",
    "import nltk\n",
    "nltk.download('brown')"
   ]
  },
  {
   "cell_type": "code",
   "execution_count": 79,
   "metadata": {},
   "outputs": [
    {
     "name": "stdout",
     "output_type": "stream",
     "text": [
      "8117\n",
      "Epoch 1, Loss: 7.6199\n",
      "Epoch 2, Loss: 5.0817\n",
      "Epoch 3, Loss: 2.8943\n",
      "Epoch 4, Loss: 1.3074\n",
      "Epoch 5, Loss: 0.5993\n",
      "Epoch 6, Loss: 0.3499\n",
      "Epoch 7, Loss: 0.2284\n",
      "Epoch 8, Loss: 0.1699\n",
      "Epoch 9, Loss: 0.1404\n",
      "Epoch 10, Loss: 0.1065\n",
      "Epoch 11, Loss: 0.0905\n",
      "Epoch 12, Loss: 0.0806\n",
      "Epoch 13, Loss: 0.0698\n",
      "Epoch 14, Loss: 0.0591\n",
      "Epoch 15, Loss: 0.0574\n"
     ]
    }
   ],
   "source": [
    "from nltk.corpus import brown\n",
    "text = ' '.join(brown.words()[:50000])  # First 50k words\n",
    " \n",
    " # Train the model\n",
    "model, word2idx, idx2word = train(\n",
    "    text,\n",
    "    embedding_dim=100,\n",
    "    window_size=6,\n",
    "    batch_size=16,\n",
    "    epochs=15,\n",
    "    learning_rate=0.01\n",
    ")"
   ]
  },
  {
   "cell_type": "code",
   "execution_count": 80,
   "metadata": {},
   "outputs": [
    {
     "name": "stdout",
     "output_type": "stream",
     "text": [
      "Similar words to 'man': ['inaugural', 'solution', 'quiet', 'clock']\n",
      "Similar words to 'woman': ['organization', 'candle', 'proposal', 'forest']\n"
     ]
    }
   ],
   "source": [
    "# Test the model\n",
    "def predict_similar_words(word, top_k=5):\n",
    "    if word not in word2idx:\n",
    "        return f\"Word '{word}' not in vocabulary\"\n",
    "     \n",
    "    word_idx = torch.tensor([word2idx[word]], dtype=torch.long)\n",
    "    embedding = model.embeddings(word_idx)\n",
    "    similarities = torch.matmul(model.embeddings.weight, embedding.T).squeeze()\n",
    "    top_indices = torch.topk(similarities, top_k).indices\n",
    "    \n",
    "    return [idx2word[idx.item()] for idx in top_indices if idx != word_idx]\n",
    "\n",
    "print(\"Similar words to 'man':\", predict_similar_words(\"man\"))\n",
    "print(\"Similar words to 'woman':\", predict_similar_words(\"woman\"))"
   ]
  },
  {
   "cell_type": "code",
   "execution_count": null,
   "metadata": {},
   "outputs": [
    {
     "data": {
      "image/png": "[encoded data removed]",
      "text/plain": [
       "<Figure size 1000x800 with 1 Axes>"
      ]
     },
     "metadata": {},
     "output_type": "display_data"
    }
   ],
   "source": [
    "from sklearn.decomposition import PCA\n",
    "import matplotlib.pyplot as plt\n",
    "\n",
    "def visualize_with_pca(embeddings, words, n_components=2):\n",
    "    # Convert embeddings to numpy array if they're PyTorch tensors\n",
    "    if isinstance(embeddings, torch.Tensor):\n",
    "        embeddings = embeddings.numpy()\n",
    "    \n",
    "    # Apply PCA\n",
    "    pca = PCA(n_components=n_components)\n",
    "    reduced = pca.fit_transform(embeddings)\n",
    "    \n",
    "    # Plot\n",
    "    plt.figure(figsize=(10, 8))\n",
    "    for i, word in enumerate(words):\n",
    "        plt.scatter(reduced[i, 0], reduced[i, 1])\n",
    "        plt.annotate(word, (reduced[i, 0], reduced[i, 1]))\n",
    "    plt.show()\n",
    "\n",
    "# Example usage:\n",
    "embeddings = model.embeddings.weight.detach()  # Get your embeddings\n",
    "words = [\"book\", \"movie\", \"trip\", \"water\", \"school\", \"big\", \"large\", \"king\", \"queen\", \"man\", \"woman\"]\n",
    "word_indices = [word2idx[w] for w in words]\n",
    "visualize_with_pca(embeddings[word_indices], words)"
   ]
  }
 ],
 "metadata": {
  "kernelspec": {
   "display_name": "Python 3",
   "language": "python",
   "name": "python3"
  },
  "language_info": {
   "codemirror_mode": {
    "name": "ipython",
    "version": 3
   },
   "file_extension": ".py",
   "mimetype": "text/x-python",
   "name": "python",
   "nbconvert_exporter": "python",
   "pygments_lexer": "ipython3",
   "version": "3.12.1"
  }
 },
 "nbformat": 4,
 "nbformat_minor": 2
}
